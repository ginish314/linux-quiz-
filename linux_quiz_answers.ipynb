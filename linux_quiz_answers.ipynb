{
  "nbformat": 4,
  "nbformat_minor": 0,
  "metadata": {
    "colab": {
      "provenance": []
    },
    "kernelspec": {
      "name": "python3",
      "display_name": "Python 3"
    },
    "language_info": {
      "name": "python"
    }
  },
  "cells": [
    {
      "cell_type": "markdown",
      "source": [
        "#     LINUX\n",
        ""
      ],
      "metadata": {
        "id": "3VwgrGfCgO78"
      }
    },
    {
      "cell_type": "markdown",
      "source": [
        "#Question 1-  What is Linux?\n",
        "\n",
        ":- Linux is basically a open source opreating system that is free and in linux  Kernel The core part of Linux, It helps the computer's hardware and software work together.its free and open source so anyone can use and change it ,its more secure Operating system than other.\n",
        "\n",
        "     "
      ],
      "metadata": {
        "id": "YuqXhj6vgeCB"
      }
    },
    {
      "cell_type": "markdown",
      "source": [
        "#Question 2- What is the difference between Hard Link & Soft Link?\n",
        "\n",
        ":- Basically hardlink is  a direct reference to the actual data on disk. It creates another name for a file, and both names point to the same content. If the original file is deleted, the data still exists as long as at least one hard link remains.\n",
        "softlink- softlink is basically A soft link or symbolic link, is a shortcut or pointer to another file. It stores the file path of the original file. If the original file is deleted, the soft link becomes broken and cannot access the data."
      ],
      "metadata": {
        "id": "NDDepkXRk6Ps"
      }
    },
    {
      "cell_type": "markdown",
      "source": [
        "#Question 3-  What is a Kernel in Linux\n",
        "\n",
        ":- Kernel is core part of linux ,kerner works as a brigde between computers software and hardware its Helps programs read and write files on the disk.Without the kernel,\n",
        " computer wouldn't know how to run anything. It controls everything from hardware access to resource allocation, and it enables the rest of the operating system  to function."
      ],
      "metadata": {
        "id": "3tVpOdx9idpr"
      }
    },
    {
      "cell_type": "markdown",
      "source": [
        "#Question 4-How do you create a user account\n",
        "\n",
        "\n",
        "\n",
        "\n",
        ":- For create a user account we need to go to terminal and type the command\n",
        "\n",
        "bash\n",
        "\n",
        "#\"sudo adduser username\"\n",
        "\n",
        "than set the password for user\n",
        "\n",
        "and if we want to replace username with the actual name we want we will use this commoand\n",
        "\n",
        "bash\n",
        "\n",
        "#\"sudo adduser -m username\"\n",
        "\n",
        "and set the password for user.\n",
        "\n",
        "\n"
      ],
      "metadata": {
        "id": "-5JQgPY1kudG"
      }
    },
    {
      "cell_type": "markdown",
      "source": [
        "#Question 5- What is the 'grep' command used for in Linux?\n",
        "\n",
        ":-grep command is basically used for search in windows we use 'ctrl+F' in linux we use 'grep' command for serach any file or directory its veryusefull command if we have lagre number of date we can simply use command \"grep\"and search.\n"
      ],
      "metadata": {
        "id": "4fmJXcNTpk1z"
      }
    },
    {
      "cell_type": "markdown",
      "source": [
        "#Question6-Create user p1\n",
        "\n",
        "#:- sudo useradd -m p1\n",
        "\n",
        "\n",
        " Step2: He should be part of 3 groups g1,g2,g3.\n",
        "\n",
        " #:- \"sudo groupadd g1 && sudo groupadd g2 && sudo groupadd g3\"\n",
        "\n",
        "# sudo useradd -m -G g1,g2,g3 p1 && sudo passwd p1\n",
        "\n",
        "enter the password and confirm the password\n",
        "\n",
        "# run this command \"groups p1\" and output will be\n",
        "\n",
        "p1:p1,g1,g2,g3\n",
        "\n",
        "\n",
        "\n",
        " Step3: whenever he creates a file automatically in the group section of file grp g1 should come.\n",
        "\n",
        " # \"sudo usermod -g g1 p1\""
      ],
      "metadata": {
        "id": "qcZZyUqUuG5L"
      }
    },
    {
      "cell_type": "markdown",
      "source": [
        "# Question 7   Step1: Create directory /tmp/bg as root user and create files inside it\n",
        "\n",
        "↪ for create a directory we will use this command\n",
        "\n",
        "sudo mkdir /tmp/bg\n",
        "\n",
        "for create file inside it we use this command\n",
        "\n",
        "sudo touch /tmp/bg/file1.txt\n",
        "sudo touch /tmp/bg/file2.txt\n",
        "\n",
        "# Step2: “abhi” should be the owner of the directory. He should be able to create files and delete files inside  the directory and also he should be able to add content to all files inside the directory.\n",
        "\n",
        "↪ for changing the owner we use this command\n",
        "\n",
        "sudo chown -R abhi/tmp/bg\n",
        "\n",
        "and for giving the read/write/execute permissions we will use this command\n",
        "\n",
        "sudo chmod - R u+rwX/tmp/bg"
      ],
      "metadata": {
        "id": "hB8KnypECvdC"
      }
    },
    {
      "cell_type": "markdown",
      "source": [
        "#question 8-  You suspect that a particular process is consuming excessive CPU resources on your Linux server. How would you identify and terminate this process\n",
        "\n",
        "\n",
        "↪ For identify particular process we will use this commonad\n",
        "\n",
        "# \"top\"\n",
        "\n",
        "after that we will check the top CPU consumers we will use this command\n",
        "\n",
        "# \" ps aux --sort=-%cpu | head -n 10\"\n",
        "\n",
        "we will get the top 10 consuming cpu and we will note the PID and  for terminate that procecess we will use this command\n",
        "\n",
        "# kill PID\n",
        "\n"
      ],
      "metadata": {
        "id": "7x49DynoFNtL"
      }
    }
  ]
}